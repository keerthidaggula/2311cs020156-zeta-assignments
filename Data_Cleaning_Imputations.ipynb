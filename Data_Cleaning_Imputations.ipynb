{
  "nbformat": 4,
  "nbformat_minor": 0,
  "metadata": {
    "colab": {
      "provenance": []
    },
    "kernelspec": {
      "name": "python3",
      "display_name": "Python 3"
    },
    "language_info": {
      "name": "python"
    }
  },
  "cells": [
    {
      "cell_type": "code",
      "source": [
        "import pandas as pd\n",
        "data = {\n",
        "    'Age':[25,None,35,30,None,23],\n",
        "    'Height':[5.5,6.1,5.9,None,5.8,5.2],\n",
        "    'HelmetStatus':[1,None,1,0,1,1],\n",
        "    'Gender':['M','F','M',None,'F','M'],\n",
        "    'Experience':[2,4,6,1,None,None]\n",
        "}\n",
        "df=pd.DataFrame(data)\n",
        "print(\"O:riginal DataFrame with Missing Values\")\n",
        "print(df)\n",
        "df_filled_mean=df.copy()\n",
        "df_filled_median=df.copy()\n",
        "df_filled_mode=df.copy()\n",
        "df_filled_mean['Age'].fillna(df['Age'].mean(),inplace=True)\n",
        "df_filled_mean['Height'].fillna(df['Height'].mean(),inplace=True)\n",
        "df_filled_mean['Experience'].fillna(df['Experience'].mean(),inplace=True)\n",
        "df_filled_median['Age'].fillna(df['Age'].median(),inplace=True)\n",
        "df_filled_median['Height'].fillna(df['Height'].median(),inplace=True)\n",
        "df_filled_median['Experience'].fillna(df['Experience'].median(),inplace=True)\n",
        "df_filled_mode['HelmetStatus'].fillna(df['HelmetStatus'].mode()[0],inplace=True)\n",
        "df_filled_mode['Gender'].fillna(df['Gender'].mode()[0], inplace=True)\n",
        "print(\"\\nDataFrame After Replacing Missing Values with Mean:\")\n",
        "print(df_filled_mean)\n",
        "print(\"\\nDataFrame After Replacing Missing Values with Median:\")\n",
        "print(df_filled_median)\n",
        "print(\"\\nDataFrame After Replacing Missing Values with Mode:\")\n",
        "print(df_filled_mode)\n",
        "\n",
        "\n"
      ],
      "metadata": {
        "colab": {
          "base_uri": "https://localhost:8080/"
        },
        "id": "JupaGr_dZR0t",
        "outputId": "e619781b-fa5c-40db-bf71-a6d4727e7bc9"
      },
      "execution_count": null,
      "outputs": [
        {
          "output_type": "stream",
          "name": "stdout",
          "text": [
            "O:riginal DataFrame with Missing Values\n",
            "    Age  Height  HelmetStatus Gender  Experience\n",
            "0  25.0     5.5           1.0      M         2.0\n",
            "1   NaN     6.1           NaN      F         4.0\n",
            "2  35.0     5.9           1.0      M         6.0\n",
            "3  30.0     NaN           0.0   None         1.0\n",
            "4   NaN     5.8           1.0      F         NaN\n",
            "5  23.0     5.2           1.0      M         NaN\n",
            "\n",
            "DataFrame After Replacing Missing Values with Mean:\n",
            "     Age  Height  HelmetStatus Gender  Experience\n",
            "0  25.00     5.5           1.0      M        2.00\n",
            "1  28.25     6.1           NaN      F        4.00\n",
            "2  35.00     5.9           1.0      M        6.00\n",
            "3  30.00     5.7           0.0   None        1.00\n",
            "4  28.25     5.8           1.0      F        3.25\n",
            "5  23.00     5.2           1.0      M        3.25\n",
            "\n",
            "DataFrame After Replacing Missing Values with Median:\n",
            "    Age  Height  HelmetStatus Gender  Experience\n",
            "0  25.0     5.5           1.0      M         2.0\n",
            "1  27.5     6.1           NaN      F         4.0\n",
            "2  35.0     5.9           1.0      M         6.0\n",
            "3  30.0     5.8           0.0   None         1.0\n",
            "4  27.5     5.8           1.0      F         3.0\n",
            "5  23.0     5.2           1.0      M         3.0\n",
            "\n",
            "DataFrame After Replacing Missing Values with Mode:\n",
            "    Age  Height  HelmetStatus Gender  Experience\n",
            "0  25.0     5.5           1.0      M         2.0\n",
            "1   NaN     6.1           1.0      F         4.0\n",
            "2  35.0     5.9           1.0      M         6.0\n",
            "3  30.0     NaN           0.0      M         1.0\n",
            "4   NaN     5.8           1.0      F         NaN\n",
            "5  23.0     5.2           1.0      M         NaN\n"
          ]
        },
        {
          "output_type": "stream",
          "name": "stderr",
          "text": [
            "<ipython-input-7-78274aa8aad6>:15: FutureWarning: A value is trying to be set on a copy of a DataFrame or Series through chained assignment using an inplace method.\n",
            "The behavior will change in pandas 3.0. This inplace method will never work because the intermediate object on which we are setting values always behaves as a copy.\n",
            "\n",
            "For example, when doing 'df[col].method(value, inplace=True)', try using 'df.method({col: value}, inplace=True)' or df[col] = df[col].method(value) instead, to perform the operation inplace on the original object.\n",
            "\n",
            "\n",
            "  df_filled_mean['Age'].fillna(df['Age'].mean(),inplace=True)\n",
            "<ipython-input-7-78274aa8aad6>:16: FutureWarning: A value is trying to be set on a copy of a DataFrame or Series through chained assignment using an inplace method.\n",
            "The behavior will change in pandas 3.0. This inplace method will never work because the intermediate object on which we are setting values always behaves as a copy.\n",
            "\n",
            "For example, when doing 'df[col].method(value, inplace=True)', try using 'df.method({col: value}, inplace=True)' or df[col] = df[col].method(value) instead, to perform the operation inplace on the original object.\n",
            "\n",
            "\n",
            "  df_filled_mean['Height'].fillna(df['Height'].mean(),inplace=True)\n",
            "<ipython-input-7-78274aa8aad6>:17: FutureWarning: A value is trying to be set on a copy of a DataFrame or Series through chained assignment using an inplace method.\n",
            "The behavior will change in pandas 3.0. This inplace method will never work because the intermediate object on which we are setting values always behaves as a copy.\n",
            "\n",
            "For example, when doing 'df[col].method(value, inplace=True)', try using 'df.method({col: value}, inplace=True)' or df[col] = df[col].method(value) instead, to perform the operation inplace on the original object.\n",
            "\n",
            "\n",
            "  df_filled_mean['Experience'].fillna(df['Experience'].mean(),inplace=True)\n",
            "<ipython-input-7-78274aa8aad6>:18: FutureWarning: A value is trying to be set on a copy of a DataFrame or Series through chained assignment using an inplace method.\n",
            "The behavior will change in pandas 3.0. This inplace method will never work because the intermediate object on which we are setting values always behaves as a copy.\n",
            "\n",
            "For example, when doing 'df[col].method(value, inplace=True)', try using 'df.method({col: value}, inplace=True)' or df[col] = df[col].method(value) instead, to perform the operation inplace on the original object.\n",
            "\n",
            "\n",
            "  df_filled_median['Age'].fillna(df['Age'].median(),inplace=True)\n",
            "<ipython-input-7-78274aa8aad6>:19: FutureWarning: A value is trying to be set on a copy of a DataFrame or Series through chained assignment using an inplace method.\n",
            "The behavior will change in pandas 3.0. This inplace method will never work because the intermediate object on which we are setting values always behaves as a copy.\n",
            "\n",
            "For example, when doing 'df[col].method(value, inplace=True)', try using 'df.method({col: value}, inplace=True)' or df[col] = df[col].method(value) instead, to perform the operation inplace on the original object.\n",
            "\n",
            "\n",
            "  df_filled_median['Height'].fillna(df['Height'].median(),inplace=True)\n",
            "<ipython-input-7-78274aa8aad6>:20: FutureWarning: A value is trying to be set on a copy of a DataFrame or Series through chained assignment using an inplace method.\n",
            "The behavior will change in pandas 3.0. This inplace method will never work because the intermediate object on which we are setting values always behaves as a copy.\n",
            "\n",
            "For example, when doing 'df[col].method(value, inplace=True)', try using 'df.method({col: value}, inplace=True)' or df[col] = df[col].method(value) instead, to perform the operation inplace on the original object.\n",
            "\n",
            "\n",
            "  df_filled_median['Experience'].fillna(df['Experience'].median(),inplace=True)\n",
            "<ipython-input-7-78274aa8aad6>:21: FutureWarning: A value is trying to be set on a copy of a DataFrame or Series through chained assignment using an inplace method.\n",
            "The behavior will change in pandas 3.0. This inplace method will never work because the intermediate object on which we are setting values always behaves as a copy.\n",
            "\n",
            "For example, when doing 'df[col].method(value, inplace=True)', try using 'df.method({col: value}, inplace=True)' or df[col] = df[col].method(value) instead, to perform the operation inplace on the original object.\n",
            "\n",
            "\n",
            "  df_filled_mode['HelmetStatus'].fillna(df['HelmetStatus'].mode()[0],inplace=True)\n",
            "<ipython-input-7-78274aa8aad6>:22: FutureWarning: A value is trying to be set on a copy of a DataFrame or Series through chained assignment using an inplace method.\n",
            "The behavior will change in pandas 3.0. This inplace method will never work because the intermediate object on which we are setting values always behaves as a copy.\n",
            "\n",
            "For example, when doing 'df[col].method(value, inplace=True)', try using 'df.method({col: value}, inplace=True)' or df[col] = df[col].method(value) instead, to perform the operation inplace on the original object.\n",
            "\n",
            "\n",
            "  df_filled_mode['Gender'].fillna(df['Gender'].mode()[0], inplace=True)\n"
          ]
        }
      ]
    },
    {
      "cell_type": "code",
      "source": [],
      "metadata": {
        "id": "N0gKSN_ibvhl"
      },
      "execution_count": null,
      "outputs": []
    }
  ]
}