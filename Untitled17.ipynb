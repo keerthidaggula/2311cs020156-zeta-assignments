{
 "cells": [
  {
   "cell_type": "code",
   "execution_count": 24,
   "id": "392a4e73-ad0e-4345-bb2c-8205fd747e11",
   "metadata": {},
   "outputs": [
    {
     "name": "stdout",
     "output_type": "stream",
     "text": [
      "Original DataFrame:\n",
      "   customer_id  age  gender\n",
      "0            1   25    male\n",
      "1            2   30  female\n",
      "2            3   35    male\n",
      "3            4   40  female\n",
      "4            5   45    male\n",
      "\n",
      "Encoded DataFrame (gender column only):\n",
      "   gender_female  gender_male\n",
      "0            0.0          1.0\n",
      "1            1.0          0.0\n",
      "2            0.0          1.0\n",
      "3            1.0          0.0\n",
      "4            0.0          1.0\n"
     ]
    }
   ],
   "source": [
    "import pandas as pd\n",
    "from sklearn.preprocessing import OneHotEncoder\n",
    "data = {\n",
    "    \"customer_id\": [1, 2, 3, 4, 5],\n",
    "    \"age\": [25, 30, 35, 40, 45],\n",
    "    \"gender\": [\"male\", \"female\", \"male\", \"female\", \"male\"]\n",
    "}\n",
    "df = pd.DataFrame(data)\n",
    "print(\"Original DataFrame:\")\n",
    "print(df)\n",
    "one_hot_encoder = OneHotEncoder(sparse_output=False)\n",
    "encoded_data = one_hot_encoder.fit_transform(df[[\"gender\"]])\n",
    "encoded_columns = one_hot_encoder.get_feature_names_out([\"gender\"])\n",
    "encoded_df = pd.DataFrame(encoded_data, columns=encoded_columns)\n",
    "print(\"\\nEncoded DataFrame (gender column only):\")\n",
    "print(encoded_df)"
   ]
  },
  {
   "cell_type": "code",
   "execution_count": 22,
   "id": "17f37083-d609-41dd-8612-c873a5b50a29",
   "metadata": {},
   "outputs": [
    {
     "name": "stdout",
     "output_type": "stream",
     "text": [
      "Original DataFrame:\n",
      "   customer_id  age  gender\n",
      "0            1   25    male\n",
      "1            2   30  female\n",
      "2            3   35    male\n",
      "3            4   40  female\n",
      "4            5   45    male\n",
      "\n",
      "Encoded DataFrame (gender column only):\n",
      "   gender_female  gender_male\n",
      "0            0.0          1.0\n",
      "1            1.0          0.0\n",
      "2            0.0          1.0\n",
      "3            1.0          0.0\n",
      "4            0.0          1.0\n"
     ]
    }
   ],
   "source": [
    "import pandas as pd\n",
    "from sklearn.preprocessing import OneHotEncoder\n",
    "data = {\n",
    "    \"customer_id\": [1, 2, 3, 4, 5],\n",
    "    \"age\": [25, 30, 35, 40, 45],\n",
    "    \"gender\": [\"male\", \"female\", \"male\", \"female\", \"male\"]\n",
    "}\n",
    "df = pd.DataFrame(data)\n",
    "print(\"Original DataFrame:\")\n",
    "print(df)\n",
    "one_hot_encoder = OneHotEncoder(sparse_output=False)\n",
    "encoded_data = one_hot_encoder.fit_transform(df[[\"gender\"]])\n",
    "encoded_columns = one_hot_encoder.get_feature_names_out([\"gender\"])\n",
    "encoded_df = pd.DataFrame(encoded_data, columns=encoded_columns)\n",
    "print(\"\\nEncoded DataFrame (gender column only):\")\n",
    "print(encoded_df)\n"
   ]
  },
  {
   "cell_type": "code",
   "execution_count": null,
   "id": "381ef98a-92d8-4bf9-b094-c86b6b27fc19",
   "metadata": {},
   "outputs": [],
   "source": []
  }
 ],
 "metadata": {
  "kernelspec": {
   "display_name": "Python [conda env:anaconda3]",
   "language": "python",
   "name": "conda-env-anaconda3-py"
  },
  "language_info": {
   "codemirror_mode": {
    "name": "ipython",
    "version": 3
   },
   "file_extension": ".py",
   "mimetype": "text/x-python",
   "name": "python",
   "nbconvert_exporter": "python",
   "pygments_lexer": "ipython3",
   "version": "3.12.7"
  }
 },
 "nbformat": 4,
 "nbformat_minor": 5
}
